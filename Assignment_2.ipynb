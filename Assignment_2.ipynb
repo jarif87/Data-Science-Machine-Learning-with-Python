{
  "nbformat": 4,
  "nbformat_minor": 0,
  "metadata": {
    "colab": {
      "provenance": []
    },
    "kernelspec": {
      "name": "python3",
      "display_name": "Python 3"
    },
    "language_info": {
      "name": "python"
    }
  },
  "cells": [
    {
      "cell_type": "markdown",
      "source": [
        "# 1. Take values of the length & breadth of a rectangle from user input and check if it is square or not."
      ],
      "metadata": {
        "id": "YEOpYUR-cB5c"
      }
    },
    {
      "cell_type": "code",
      "execution_count": null,
      "metadata": {
        "id": "JTFpxiRQb3x9",
        "colab": {
          "base_uri": "https://localhost:8080/"
        },
        "outputId": "7c10a7bc-0745-4b6d-82af-3a85dec8b93c"
      },
      "outputs": [
        {
          "name": "stdout",
          "output_type": "stream",
          "text": [
            "Enter your length :10\n",
            "Enter your breadth :10\n"
          ]
        }
      ],
      "source": [
        "length=int(input(\"Enter your length :\"))\n",
        "breadth=int(input(\"Enter your breadth :\"))"
      ]
    },
    {
      "cell_type": "code",
      "source": [
        "if length==breadth:\n",
        "  print(\"square\")\n",
        "else:\n",
        "  print(\"not\")"
      ],
      "metadata": {
        "id": "-4UiyelPb9-i",
        "colab": {
          "base_uri": "https://localhost:8080/"
        },
        "outputId": "cf8b855d-26a5-4199-c94c-bbf05db4b0d8"
      },
      "execution_count": null,
      "outputs": [
        {
          "output_type": "stream",
          "name": "stdout",
          "text": [
            "square\n"
          ]
        }
      ]
    },
    {
      "cell_type": "markdown",
      "source": [
        "# 2. Take three integer values from the user and print the greatest among them."
      ],
      "metadata": {
        "id": "6R3Oi2z_NW7n"
      }
    },
    {
      "cell_type": "code",
      "source": [
        "a=int(input(\"Enter first number :\"))\n",
        "b=int(input(\"Enter second number :\"))\n",
        "c=int(input(\"Enter third number :\"))"
      ],
      "metadata": {
        "id": "wM_TEBgub-B4",
        "colab": {
          "base_uri": "https://localhost:8080/"
        },
        "outputId": "e043b441-bbad-4dd9-c884-2e4638cd20eb"
      },
      "execution_count": null,
      "outputs": [
        {
          "name": "stdout",
          "output_type": "stream",
          "text": [
            "Enter first number :10\n",
            "Enter second number :2\n",
            "Enter third number :3\n"
          ]
        }
      ]
    },
    {
      "cell_type": "code",
      "source": [
        "if a>=b  and a>=c:\n",
        "  print(\"A is the Largest Value\")\n",
        "elif b>=c and b>=c:\n",
        "  print(\"B is the Largest Value\")\n",
        "else:\n",
        "  print(\"C is the Largest\")"
      ],
      "metadata": {
        "id": "8zFhuC8lb-Fp",
        "colab": {
          "base_uri": "https://localhost:8080/"
        },
        "outputId": "2976c78f-06cc-452e-e349-e76211ec771b"
      },
      "execution_count": null,
      "outputs": [
        {
          "output_type": "stream",
          "name": "stdout",
          "text": [
            "A is the Largest Value\n"
          ]
        }
      ]
    },
    {
      "cell_type": "markdown",
      "source": [
        "# 3. A student will not be allowed to sit in an exam if his/her attendance is less than 75%."
      ],
      "metadata": {
        "id": "oqexMnJgOpNF"
      }
    },
    {
      "cell_type": "code",
      "source": [
        "d=int(input(\"Enter Your Value :\"))\n",
        "if d>=75:\n",
        "  print(\"Allow for exam\")\n",
        "else:\n",
        "  print(\"not Allow\")\n"
      ],
      "metadata": {
        "colab": {
          "base_uri": "https://localhost:8080/"
        },
        "id": "e8zxx_S4OWVi",
        "outputId": "162b9238-081a-4bb8-eacb-c36ab1cd3d71"
      },
      "execution_count": null,
      "outputs": [
        {
          "output_type": "stream",
          "name": "stdout",
          "text": [
            "Enter Your Value :10\n",
            "not Allow\n"
          ]
        }
      ]
    },
    {
      "cell_type": "markdown",
      "source": [
        "# 4. A school has the following rules for the grading system:\n",
        "\n",
        "**Below 25 – F, 25 to 44 – E, 45 to 49 – D, 50 to 59 – C, 60 to 79 – B, 80 to 89 - A, Above 90 - A+**\n",
        "\n",
        "### Now, Ask the user to enter marks and print the corresponding grade."
      ],
      "metadata": {
        "id": "XP9FqqGnQ3rO"
      }
    },
    {
      "cell_type": "code",
      "source": [
        "x=int(input(\"Enter your number :\"))\n",
        "if x>=90 and x<=100:\n",
        "  print(\"A+\")\n",
        "elif x>=80 and x<=89:\n",
        "  print(\"A\")\n",
        "elif x>=60 and x<=79:\n",
        "  print(\"B\")\n",
        "elif x>=50 and x<=59:\n",
        "  print(\"C\")\n",
        "elif x>=45 and x<=49:\n",
        "  print(\"D\")\n",
        "\n",
        "elif x>=25 and x<=44:\n",
        "  print(\"E\")\n",
        "else:\n",
        "  print(\"F\")"
      ],
      "metadata": {
        "colab": {
          "base_uri": "https://localhost:8080/"
        },
        "id": "mEUggcW3OWL0",
        "outputId": "3e008af7-c116-41eb-ae63-0aeba2d46bf8"
      },
      "execution_count": null,
      "outputs": [
        {
          "output_type": "stream",
          "name": "stdout",
          "text": [
            "Enter your number :10\n",
            "F\n"
          ]
        }
      ]
    },
    {
      "cell_type": "markdown",
      "source": [
        "# 5. Print the following pattern using for and while loop.\n",
        "```1 2 3 4 5 6 7```\n",
        "\n",
        "```1 2 3 4 5 6```\n",
        "\n",
        "```1 2 3 4 5```\n",
        "\n",
        "```1 2 3 4```"
      ],
      "metadata": {
        "id": "OdtHoIrkTxUX"
      }
    },
    {
      "cell_type": "code",
      "source": [
        "for i in range(8, 4, -1):\n",
        "  \n",
        "    for j in range(1, i):\n",
        "        print(j, end=' ')\n",
        "    \n",
        "    print()"
      ],
      "metadata": {
        "colab": {
          "base_uri": "https://localhost:8080/"
        },
        "id": "1y8GJ6nkOWAV",
        "outputId": "1be0bed8-befb-4415-ed2b-4f51c2109708"
      },
      "execution_count": 38,
      "outputs": [
        {
          "output_type": "stream",
          "name": "stdout",
          "text": [
            "1 2 3 4 5 6 7 \n",
            "1 2 3 4 5 6 \n",
            "1 2 3 4 5 \n",
            "1 2 3 4 \n"
          ]
        }
      ]
    },
    {
      "cell_type": "code",
      "source": [
        "#while loop\n",
        "i=8\n",
        "while i>4:\n",
        "    j=1\n",
        "    while j<i:\n",
        "        print(j,end=\" \")\n",
        "        j+=1\n",
        "    print()\n",
        "    i-=1"
      ],
      "metadata": {
        "id": "nPD2pJoUHK7g"
      },
      "execution_count": null,
      "outputs": []
    },
    {
      "cell_type": "markdown",
      "source": [
        "# 6. Display numbers from -100 to -10 using for loop."
      ],
      "metadata": {
        "id": "siiZcD7xVQKZ"
      }
    },
    {
      "cell_type": "code",
      "source": [
        "for i in range(-100, -9):\n",
        "    print(i)"
      ],
      "metadata": {
        "colab": {
          "base_uri": "https://localhost:8080/"
        },
        "id": "bqPTj84POV3s",
        "outputId": "672d832b-f316-43b4-9482-81cac9dc08d7"
      },
      "execution_count": null,
      "outputs": [
        {
          "output_type": "stream",
          "name": "stdout",
          "text": [
            "-100\n",
            "-99\n",
            "-98\n",
            "-97\n",
            "-96\n",
            "-95\n",
            "-94\n",
            "-93\n",
            "-92\n",
            "-91\n",
            "-90\n",
            "-89\n",
            "-88\n",
            "-87\n",
            "-86\n",
            "-85\n",
            "-84\n",
            "-83\n",
            "-82\n",
            "-81\n",
            "-80\n",
            "-79\n",
            "-78\n",
            "-77\n",
            "-76\n",
            "-75\n",
            "-74\n",
            "-73\n",
            "-72\n",
            "-71\n",
            "-70\n",
            "-69\n",
            "-68\n",
            "-67\n",
            "-66\n",
            "-65\n",
            "-64\n",
            "-63\n",
            "-62\n",
            "-61\n",
            "-60\n",
            "-59\n",
            "-58\n",
            "-57\n",
            "-56\n",
            "-55\n",
            "-54\n",
            "-53\n",
            "-52\n",
            "-51\n",
            "-50\n",
            "-49\n",
            "-48\n",
            "-47\n",
            "-46\n",
            "-45\n",
            "-44\n",
            "-43\n",
            "-42\n",
            "-41\n",
            "-40\n",
            "-39\n",
            "-38\n",
            "-37\n",
            "-36\n",
            "-35\n",
            "-34\n",
            "-33\n",
            "-32\n",
            "-31\n",
            "-30\n",
            "-29\n",
            "-28\n",
            "-27\n",
            "-26\n",
            "-25\n",
            "-24\n",
            "-23\n",
            "-22\n",
            "-21\n",
            "-20\n",
            "-19\n",
            "-18\n",
            "-17\n",
            "-16\n",
            "-15\n",
            "-14\n",
            "-13\n",
            "-12\n",
            "-11\n",
            "-10\n"
          ]
        }
      ]
    },
    {
      "cell_type": "markdown",
      "source": [
        "# 7. Write a program to sum all prime numbers within a range of 10 to 1000."
      ],
      "metadata": {
        "id": "yxRnX1gPVaYP"
      }
    },
    {
      "cell_type": "code",
      "source": [
        "total = 0\n",
        "for number in range(10, 1000 + 1):\n",
        "    count = 0\n",
        "    for i in range(2, (number // 2 + 1)):\n",
        "        if number % i == 0:\n",
        "            count += 1\n",
        "            break\n",
        "\n",
        "    if count == 0 and number != 1:\n",
        "        total += number\n",
        "\n",
        "print(\"Sum of all prime numbers is\", total)\n"
      ],
      "metadata": {
        "colab": {
          "base_uri": "https://localhost:8080/"
        },
        "id": "ccb0W15TVT3l",
        "outputId": "86a07f63-b876-4d0e-e979-8275f0fa3c93"
      },
      "execution_count": null,
      "outputs": [
        {
          "output_type": "stream",
          "name": "stdout",
          "text": [
            "Sum of all prime numbers is 76110\n"
          ]
        }
      ]
    },
    {
      "cell_type": "markdown",
      "source": [
        "# 8. Find the factorial of an n! (Hint, n=7: 7*6*5*4*3*2*1)."
      ],
      "metadata": {
        "id": "glok79C7fXYr"
      }
    },
    {
      "cell_type": "code",
      "source": [
        "num = int(input(\"Enter a number: \"))    \n",
        "factorial = 1    \n",
        "if num < 0:    \n",
        "   print(\"Factorial does not exist\")    \n",
        "elif num == 0:    \n",
        "   print(\"The factorial of 0 is 1\")    \n",
        "else:    \n",
        "   for i in range(1,num + 1):    \n",
        "       factorial = factorial*i    \n",
        "   print(\"The Factorial is\",factorial)    "
      ],
      "metadata": {
        "colab": {
          "base_uri": "https://localhost:8080/"
        },
        "id": "wYGRjj3FVUoR",
        "outputId": "e0add10b-5e8c-4de5-f530-8ff154583001"
      },
      "execution_count": null,
      "outputs": [
        {
          "output_type": "stream",
          "name": "stdout",
          "text": [
            "Enter a number: 7\n",
            "The Factorial is 5040\n"
          ]
        }
      ]
    },
    {
      "cell_type": "markdown",
      "source": [
        "# 9. Reverse a given integer number 27956240710."
      ],
      "metadata": {
        "id": "kDdxfptZhRnX"
      }
    },
    {
      "cell_type": "code",
      "source": [
        "num = 27956240710\n",
        "\n",
        "\n",
        "num_str = str(num)\n",
        "\n",
        "rev_str=num_str[: : -1]\n",
        "print(rev_str)"
      ],
      "metadata": {
        "colab": {
          "base_uri": "https://localhost:8080/"
        },
        "id": "kUe4-xjWfPwi",
        "outputId": "546f3809-e854-4ade-9868-a5b46a952220"
      },
      "execution_count": null,
      "outputs": [
        {
          "output_type": "stream",
          "name": "stdout",
          "text": [
            "01704265972\n"
          ]
        }
      ]
    },
    {
      "cell_type": "markdown",
      "source": [
        "# 10. Print the following pattern using for and while loop.\n",
        "\n",
        "```# # #```\n",
        "\n",
        "```# # # #```\n",
        "\n",
        "```# # #```\n",
        "\n",
        "```# #```"
      ],
      "metadata": {
        "id": "IjMSePUHkGS5"
      }
    },
    {
      "cell_type": "code",
      "source": [
        "# for loop\n",
        "for i in range(1, 5):\n",
        "   \n",
        "    if i == 1 or i == 3:\n",
        "        print(\"# # #\")\n",
        "  \n",
        "    elif i == 2:\n",
        "        print(\"# # # #\")\n",
        "    \n",
        "    else:\n",
        "        print(\"# #\")"
      ],
      "metadata": {
        "colab": {
          "base_uri": "https://localhost:8080/"
        },
        "id": "I_z_jshcfP84",
        "outputId": "c37ffc7c-528b-4542-ea42-715e3d1903d5"
      },
      "execution_count": 40,
      "outputs": [
        {
          "output_type": "stream",
          "name": "stdout",
          "text": [
            "# # #\n",
            "# # # #\n",
            "# # #\n",
            "# #\n"
          ]
        }
      ]
    },
    {
      "cell_type": "code",
      "source": [
        "#while loop\n",
        "\n",
        "i = 1\n",
        "\n",
        "while i <= 4:\n",
        "\n",
        "    if i == 1 or i == 3:\n",
        "        print(\"# # #\")\n",
        "   \n",
        "    elif i == 2:\n",
        "        print(\"# # # #\")\n",
        "    \n",
        "    else:\n",
        "        print(\"# #\")\n",
        " \n",
        "    i += 1"
      ],
      "metadata": {
        "colab": {
          "base_uri": "https://localhost:8080/"
        },
        "id": "53p09s-pMAFJ",
        "outputId": "5aba42d8-024c-4a13-dbef-880ccd8838cf"
      },
      "execution_count": 41,
      "outputs": [
        {
          "output_type": "stream",
          "name": "stdout",
          "text": [
            "# # #\n",
            "# # # #\n",
            "# # #\n",
            "# #\n"
          ]
        }
      ]
    },
    {
      "cell_type": "markdown",
      "source": [
        "# 11. Display the Fibonacci series of 15 elements using the for and while loop."
      ],
      "metadata": {
        "id": "Om0jnswPhdb_"
      }
    },
    {
      "cell_type": "code",
      "source": [
        "# while loop\n",
        "n=15\n",
        "x=0\n",
        "y=1\n",
        "z=0\n",
        "\n",
        "while z<=n:\n",
        "  print(z)\n",
        " \n",
        "  x=y\n",
        "  y=z\n",
        "  z=x+y\n",
        "  "
      ],
      "metadata": {
        "colab": {
          "base_uri": "https://localhost:8080/"
        },
        "id": "t2k5FWhuhZYB",
        "outputId": "6542b4e7-de6d-413c-e134-64427cd9eb85"
      },
      "execution_count": 36,
      "outputs": [
        {
          "output_type": "stream",
          "name": "stdout",
          "text": [
            "0\n",
            "1\n",
            "1\n",
            "2\n",
            "3\n",
            "5\n",
            "8\n",
            "13\n"
          ]
        }
      ]
    },
    {
      "cell_type": "code",
      "source": [
        "#for loop\n",
        "n=15\n",
        "x=0\n",
        "y=1\n",
        "z=0\n",
        "for i in range(n):\n",
        "  print(z,end=\" \")\n",
        "  z=x+y\n",
        "  y=x\n",
        "  x=z\n",
        "\n"
      ],
      "metadata": {
        "colab": {
          "base_uri": "https://localhost:8080/"
        },
        "id": "fhEC_rhJ9IbQ",
        "outputId": "be510783-350b-4642-a9a0-b3afea53f1a8"
      },
      "execution_count": 37,
      "outputs": [
        {
          "output_type": "stream",
          "name": "stdout",
          "text": [
            "0 1 1 2 3 5 8 13 21 34 55 89 144 233 377 "
          ]
        }
      ]
    },
    {
      "cell_type": "markdown",
      "source": [
        "# 12. Remove 2 and add 3 to the list and replace True with False.\n",
        "\n",
        "```Li = [1,3,5, [2,3], True]```\n",
        "\n",
        "```Output = [1,3,5, [3,3], False]```"
      ],
      "metadata": {
        "id": "ELjSQKBDoV-T"
      }
    },
    {
      "cell_type": "code",
      "source": [
        "Li = [1, 3, 5, [2, 3], True]   \n",
        "nested_list_str = str(Li[3])      \n",
        "new_str = nested_list_str.replace('2, 3', '3, 3')   \n",
        "new_list = eval(new_str)          \n",
        "Li[3] = new_list                 \n",
        "Li[-1] = False                    \n",
        "print(Li)        "
      ],
      "metadata": {
        "colab": {
          "base_uri": "https://localhost:8080/"
        },
        "id": "e1WHzogTVU6K",
        "outputId": "a85d1917-ba9f-4bce-855d-8277b86d0a1f"
      },
      "execution_count": 1,
      "outputs": [
        {
          "output_type": "stream",
          "name": "stdout",
          "text": [
            "[1, 3, 5, [3, 3], False]\n"
          ]
        }
      ]
    },
    {
      "cell_type": "markdown",
      "source": [
        "# 13. Find the intersection (common) of two sets.\n",
        "\n",
        "S1 = {1,4,6,8}\n",
        "S2 = {True, 1,2,10}"
      ],
      "metadata": {
        "id": "mBSpXguyYYDD"
      }
    },
    {
      "cell_type": "code",
      "source": [
        "S1 = {1,4,6,8} \n",
        "S2 = {True, 1,2,10}\n",
        "s3=S1.intersection(S2)\n",
        "print(s3)"
      ],
      "metadata": {
        "id": "OSz59m-MVVp9",
        "colab": {
          "base_uri": "https://localhost:8080/"
        },
        "outputId": "5da3e3a2-7cff-4a9a-da7a-1a46ea893677"
      },
      "execution_count": 4,
      "outputs": [
        {
          "output_type": "stream",
          "name": "stdout",
          "text": [
            "{True}\n"
          ]
        }
      ]
    },
    {
      "cell_type": "markdown",
      "source": [
        "# 14. Input a list from the user then Remove duplicates from a list and create a set and find the max number. User_input = [1,9,3,4,5,200,54]"
      ],
      "metadata": {
        "id": "pd6Xq4ZiaHyW"
      }
    },
    {
      "cell_type": "code",
      "source": [
        "my_input=input(\"Enter your numbers :\")\n",
        "\n",
        "            "
      ],
      "metadata": {
        "id": "ZD-Hk46IuUxS",
        "colab": {
          "base_uri": "https://localhost:8080/"
        },
        "outputId": "64bf6ecf-7e8b-4710-cead-961d0db1772d"
      },
      "execution_count": 14,
      "outputs": [
        {
          "name": "stdout",
          "output_type": "stream",
          "text": [
            "Enter your numbers :1,2,2,3,4,5\n"
          ]
        }
      ]
    },
    {
      "cell_type": "code",
      "source": [
        "input_list=[int(k) for k in my_input.split(\",\")]\n",
        "result_list = list(set(input_list))\n",
        "print(result_list)"
      ],
      "metadata": {
        "id": "lZLajSbfuU97",
        "colab": {
          "base_uri": "https://localhost:8080/"
        },
        "outputId": "28abb55b-70bb-4b9f-84a1-e94432c25104"
      },
      "execution_count": 17,
      "outputs": [
        {
          "output_type": "stream",
          "name": "stdout",
          "text": [
            "[1, 2, 3, 4, 5]\n"
          ]
        }
      ]
    },
    {
      "cell_type": "markdown",
      "source": [
        "# Create set and MaX ValuE"
      ],
      "metadata": {
        "id": "ln3NRA9Hcdzp"
      }
    },
    {
      "cell_type": "code",
      "source": [
        "set_value=set(result_list)\n",
        "print(set_value)"
      ],
      "metadata": {
        "id": "q6I0CDt5uVAe",
        "colab": {
          "base_uri": "https://localhost:8080/"
        },
        "outputId": "896e2bce-07a1-4d34-fafc-21ff46088ee3"
      },
      "execution_count": 18,
      "outputs": [
        {
          "output_type": "stream",
          "name": "stdout",
          "text": [
            "{1, 2, 3, 4, 5}\n"
          ]
        }
      ]
    },
    {
      "cell_type": "code",
      "source": [
        "set_max=max(set_value)\n",
        "print(set_max)"
      ],
      "metadata": {
        "id": "dbPYcSq0uVFA",
        "colab": {
          "base_uri": "https://localhost:8080/"
        },
        "outputId": "061162dc-931b-4c99-c12c-f1f5dd454a72"
      },
      "execution_count": 19,
      "outputs": [
        {
          "output_type": "stream",
          "name": "stdout",
          "text": [
            "5\n"
          ]
        }
      ]
    },
    {
      "cell_type": "markdown",
      "source": [
        "# 15. Rename the key of a dictionary.\n",
        "\n",
        "**Dict = { \"name\": \"Shakil\", \"age\":27, \"city\": “Berlin”, \"country\": \"Germany\" }\n",
        "Write a program to rename a key ‘country’ to a ‘region’ in the following dictionary.**"
      ],
      "metadata": {
        "id": "4dwb7f2KfHLz"
      }
    },
    {
      "cell_type": "code",
      "source": [
        "Dict = { \"name\": \"Shakil\", \"age\":27, \"city\":\"Berlin\", \"country\": \"Germany\" }\n",
        "Dict[\"region\"]=Dict.pop(\"country\")\n",
        "print(Dict)"
      ],
      "metadata": {
        "id": "k6LXVnL5uVLc",
        "colab": {
          "base_uri": "https://localhost:8080/"
        },
        "outputId": "8fe45022-aede-456a-c573-f0e13a81b579"
      },
      "execution_count": 22,
      "outputs": [
        {
          "output_type": "stream",
          "name": "stdout",
          "text": [
            "{'name': 'Shakil', 'age': 27, 'city': 'Berlin', 'region': 'Germany'}\n"
          ]
        }
      ]
    },
    {
      "cell_type": "markdown",
      "source": [
        "# 16. Creating a data frame using the list.\n",
        "num = [10,100,300] (column name is number)"
      ],
      "metadata": {
        "id": "Vh26h2RRgASw"
      }
    },
    {
      "cell_type": "code",
      "source": [
        "import pandas as pd\n",
        "\n",
        "num = [10,100,300]\n",
        "df=pd.DataFrame(num,columns=[\"number\"])\n",
        "df"
      ],
      "metadata": {
        "id": "tW12F1j9uVN-",
        "colab": {
          "base_uri": "https://localhost:8080/",
          "height": 143
        },
        "outputId": "e62c1c9c-0b6e-4038-a70f-a6cd5817bd8f"
      },
      "execution_count": 25,
      "outputs": [
        {
          "output_type": "execute_result",
          "data": {
            "text/plain": [
              "   number\n",
              "0      10\n",
              "1     100\n",
              "2     300"
            ],
            "text/html": [
              "\n",
              "  <div id=\"df-55dc67a1-04e7-4320-aa4a-5bd8466c8d6a\">\n",
              "    <div class=\"colab-df-container\">\n",
              "      <div>\n",
              "<style scoped>\n",
              "    .dataframe tbody tr th:only-of-type {\n",
              "        vertical-align: middle;\n",
              "    }\n",
              "\n",
              "    .dataframe tbody tr th {\n",
              "        vertical-align: top;\n",
              "    }\n",
              "\n",
              "    .dataframe thead th {\n",
              "        text-align: right;\n",
              "    }\n",
              "</style>\n",
              "<table border=\"1\" class=\"dataframe\">\n",
              "  <thead>\n",
              "    <tr style=\"text-align: right;\">\n",
              "      <th></th>\n",
              "      <th>number</th>\n",
              "    </tr>\n",
              "  </thead>\n",
              "  <tbody>\n",
              "    <tr>\n",
              "      <th>0</th>\n",
              "      <td>10</td>\n",
              "    </tr>\n",
              "    <tr>\n",
              "      <th>1</th>\n",
              "      <td>100</td>\n",
              "    </tr>\n",
              "    <tr>\n",
              "      <th>2</th>\n",
              "      <td>300</td>\n",
              "    </tr>\n",
              "  </tbody>\n",
              "</table>\n",
              "</div>\n",
              "      <button class=\"colab-df-convert\" onclick=\"convertToInteractive('df-55dc67a1-04e7-4320-aa4a-5bd8466c8d6a')\"\n",
              "              title=\"Convert this dataframe to an interactive table.\"\n",
              "              style=\"display:none;\">\n",
              "        \n",
              "  <svg xmlns=\"http://www.w3.org/2000/svg\" height=\"24px\"viewBox=\"0 0 24 24\"\n",
              "       width=\"24px\">\n",
              "    <path d=\"M0 0h24v24H0V0z\" fill=\"none\"/>\n",
              "    <path d=\"M18.56 5.44l.94 2.06.94-2.06 2.06-.94-2.06-.94-.94-2.06-.94 2.06-2.06.94zm-11 1L8.5 8.5l.94-2.06 2.06-.94-2.06-.94L8.5 2.5l-.94 2.06-2.06.94zm10 10l.94 2.06.94-2.06 2.06-.94-2.06-.94-.94-2.06-.94 2.06-2.06.94z\"/><path d=\"M17.41 7.96l-1.37-1.37c-.4-.4-.92-.59-1.43-.59-.52 0-1.04.2-1.43.59L10.3 9.45l-7.72 7.72c-.78.78-.78 2.05 0 2.83L4 21.41c.39.39.9.59 1.41.59.51 0 1.02-.2 1.41-.59l7.78-7.78 2.81-2.81c.8-.78.8-2.07 0-2.86zM5.41 20L4 18.59l7.72-7.72 1.47 1.35L5.41 20z\"/>\n",
              "  </svg>\n",
              "      </button>\n",
              "      \n",
              "  <style>\n",
              "    .colab-df-container {\n",
              "      display:flex;\n",
              "      flex-wrap:wrap;\n",
              "      gap: 12px;\n",
              "    }\n",
              "\n",
              "    .colab-df-convert {\n",
              "      background-color: #E8F0FE;\n",
              "      border: none;\n",
              "      border-radius: 50%;\n",
              "      cursor: pointer;\n",
              "      display: none;\n",
              "      fill: #1967D2;\n",
              "      height: 32px;\n",
              "      padding: 0 0 0 0;\n",
              "      width: 32px;\n",
              "    }\n",
              "\n",
              "    .colab-df-convert:hover {\n",
              "      background-color: #E2EBFA;\n",
              "      box-shadow: 0px 1px 2px rgba(60, 64, 67, 0.3), 0px 1px 3px 1px rgba(60, 64, 67, 0.15);\n",
              "      fill: #174EA6;\n",
              "    }\n",
              "\n",
              "    [theme=dark] .colab-df-convert {\n",
              "      background-color: #3B4455;\n",
              "      fill: #D2E3FC;\n",
              "    }\n",
              "\n",
              "    [theme=dark] .colab-df-convert:hover {\n",
              "      background-color: #434B5C;\n",
              "      box-shadow: 0px 1px 3px 1px rgba(0, 0, 0, 0.15);\n",
              "      filter: drop-shadow(0px 1px 2px rgba(0, 0, 0, 0.3));\n",
              "      fill: #FFFFFF;\n",
              "    }\n",
              "  </style>\n",
              "\n",
              "      <script>\n",
              "        const buttonEl =\n",
              "          document.querySelector('#df-55dc67a1-04e7-4320-aa4a-5bd8466c8d6a button.colab-df-convert');\n",
              "        buttonEl.style.display =\n",
              "          google.colab.kernel.accessAllowed ? 'block' : 'none';\n",
              "\n",
              "        async function convertToInteractive(key) {\n",
              "          const element = document.querySelector('#df-55dc67a1-04e7-4320-aa4a-5bd8466c8d6a');\n",
              "          const dataTable =\n",
              "            await google.colab.kernel.invokeFunction('convertToInteractive',\n",
              "                                                     [key], {});\n",
              "          if (!dataTable) return;\n",
              "\n",
              "          const docLinkHtml = 'Like what you see? Visit the ' +\n",
              "            '<a target=\"_blank\" href=https://colab.research.google.com/notebooks/data_table.ipynb>data table notebook</a>'\n",
              "            + ' to learn more about interactive tables.';\n",
              "          element.innerHTML = '';\n",
              "          dataTable['output_type'] = 'display_data';\n",
              "          await google.colab.output.renderOutput(dataTable, element);\n",
              "          const docLink = document.createElement('div');\n",
              "          docLink.innerHTML = docLinkHtml;\n",
              "          element.appendChild(docLink);\n",
              "        }\n",
              "      </script>\n",
              "    </div>\n",
              "  </div>\n",
              "  "
            ]
          },
          "metadata": {},
          "execution_count": 25
        }
      ]
    },
    {
      "cell_type": "markdown",
      "source": [
        "# 17. Change the value of a key in a given dictionary.\n",
        "\n",
        "Write a Python program to change ‘age’ to 28 in the following dictionary.\n",
        "\n",
        "Dict = { \"name\": \"Shakil\", \"age\":27, \"city\": “Berlin”, \"country\": \"Germany\" }"
      ],
      "metadata": {
        "id": "Frnt86K2gw8F"
      }
    },
    {
      "cell_type": "code",
      "source": [
        "Dict = { \"name\": \"Shakil\", \"age\":27, \"city\": \"Berlin\", \"country\": \"Germany\" }\n",
        "Dict[\"age\"]=28\n",
        "print(Dict)"
      ],
      "metadata": {
        "id": "AlShdNJxuVQd",
        "colab": {
          "base_uri": "https://localhost:8080/"
        },
        "outputId": "438e7410-125b-4086-ed52-5650d0884eba"
      },
      "execution_count": 29,
      "outputs": [
        {
          "output_type": "stream",
          "name": "stdout",
          "text": [
            "{'name': 'Shakil', 'age': 28, 'city': 'Berlin', 'country': 'Germany'}\n"
          ]
        }
      ]
    },
    {
      "cell_type": "code",
      "source": [],
      "metadata": {
        "id": "U-4BkcttuVVC"
      },
      "execution_count": null,
      "outputs": []
    },
    {
      "cell_type": "code",
      "source": [],
      "metadata": {
        "id": "XuzvFve9uVZp"
      },
      "execution_count": null,
      "outputs": []
    }
  ]
}