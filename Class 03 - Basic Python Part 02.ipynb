{
 "cells": [
  {
   "cell_type": "markdown",
   "id": "a3b97ea6",
   "metadata": {},
   "source": [
    "# Break and Continue"
   ]
  },
  {
   "cell_type": "code",
   "execution_count": 2,
   "id": "6ced689d",
   "metadata": {},
   "outputs": [
    {
     "name": "stdout",
     "output_type": "stream",
     "text": [
      "25\n",
      "26\n",
      "27\n",
      "28\n",
      "29\n",
      "30\n"
     ]
    }
   ],
   "source": [
    "#break\n",
    "# start from 25, and end in n-1\n",
    "for x in range(25, 31): \n",
    "    print(x)"
   ]
  },
  {
   "cell_type": "code",
   "execution_count": 5,
   "id": "2ffbc119",
   "metadata": {},
   "outputs": [
    {
     "name": "stdout",
     "output_type": "stream",
     "text": [
      "25\n",
      "30\n",
      "35\n",
      "40\n",
      "45\n",
      "50\n"
     ]
    }
   ],
   "source": [
    "for x in range(25,76,5): # 5 kore barbe\n",
    "    if x >= 51:\n",
    "        break\n",
    "    print(x)"
   ]
  },
  {
   "cell_type": "code",
   "execution_count": 6,
   "id": "8f612e14",
   "metadata": {},
   "outputs": [],
   "source": [
    "#continue\n",
    "for x in range(25,31): # 5 kore barbe\n",
    "    if x%2==1:\n",
    "        break\n",
    "    print(x)"
   ]
  },
  {
   "cell_type": "code",
   "execution_count": 7,
   "id": "291f5e9f",
   "metadata": {},
   "outputs": [
    {
     "name": "stdout",
     "output_type": "stream",
     "text": [
      "26\n",
      "28\n",
      "30\n"
     ]
    }
   ],
   "source": [
    "#continue\n",
    "for x in range(25,31): # 5 kore barbe\n",
    "    if x%2==1:\n",
    "        continue #will skip odd\n",
    "    print(x)"
   ]
  },
  {
   "cell_type": "markdown",
   "id": "27bd08be",
   "metadata": {},
   "source": [
    "# List"
   ]
  },
  {
   "cell_type": "markdown",
   "id": "fc5d5851",
   "metadata": {},
   "source": [
    "1. Ordered\n",
    "2. Changeable\n",
    "3. Allow Duplicates\n"
   ]
  },
  {
   "cell_type": "code",
   "execution_count": 8,
   "id": "ca18032a",
   "metadata": {},
   "outputs": [],
   "source": [
    "li = [1,2,3,4,'ai', 'ml',True, False,(1,20,1),1,2,4]"
   ]
  },
  {
   "cell_type": "code",
   "execution_count": 9,
   "id": "635b2153",
   "metadata": {},
   "outputs": [
    {
     "data": {
      "text/plain": [
       "[1, 2, 3, 4, 'ai', 'ml', True, False, (1, 20, 1), 1, 2, 4]"
      ]
     },
     "execution_count": 9,
     "metadata": {},
     "output_type": "execute_result"
    }
   ],
   "source": [
    "li"
   ]
  },
  {
   "cell_type": "code",
   "execution_count": 10,
   "id": "d4367f1f",
   "metadata": {},
   "outputs": [
    {
     "data": {
      "text/plain": [
       "152"
      ]
     },
     "execution_count": 10,
     "metadata": {},
     "output_type": "execute_result"
    }
   ],
   "source": [
    "import sys\n",
    "sys.getsizeof(li)"
   ]
  },
  {
   "cell_type": "code",
   "execution_count": 11,
   "id": "7b3e4309",
   "metadata": {},
   "outputs": [],
   "source": [
    "tu = (1,2,3,4,'ai', 'ml',True, False,(1,20,1),1,2,4) #tuple"
   ]
  },
  {
   "cell_type": "code",
   "execution_count": 12,
   "id": "566d8ee1",
   "metadata": {},
   "outputs": [
    {
     "data": {
      "text/plain": [
       "136"
      ]
     },
     "execution_count": 12,
     "metadata": {},
     "output_type": "execute_result"
    }
   ],
   "source": [
    "sys.getsizeof(tu)"
   ]
  },
  {
   "cell_type": "code",
   "execution_count": 14,
   "id": "36de99b8",
   "metadata": {},
   "outputs": [],
   "source": [
    "s={1,2,3,4,'ai', 'ml',True, False,(1,20,1),1,2,4} #set"
   ]
  },
  {
   "cell_type": "code",
   "execution_count": 15,
   "id": "cabf2122",
   "metadata": {},
   "outputs": [
    {
     "data": {
      "text/plain": [
       "728"
      ]
     },
     "execution_count": 15,
     "metadata": {},
     "output_type": "execute_result"
    }
   ],
   "source": [
    "sys.getsizeof(s)"
   ]
  },
  {
   "cell_type": "code",
   "execution_count": 17,
   "id": "8b5926aa",
   "metadata": {},
   "outputs": [
    {
     "data": {
      "text/plain": [
       "20"
      ]
     },
     "execution_count": 17,
     "metadata": {},
     "output_type": "execute_result"
    }
   ],
   "source": [
    "li[8][1]"
   ]
  },
  {
   "cell_type": "code",
   "execution_count": 18,
   "id": "41f21d69",
   "metadata": {},
   "outputs": [
    {
     "data": {
      "text/plain": [
       "[1, 2, 3, 4, 'ai', 'ml', True, False, (1, 20, 1), 1, 2, 4]"
      ]
     },
     "execution_count": 18,
     "metadata": {},
     "output_type": "execute_result"
    }
   ],
   "source": [
    "li"
   ]
  },
  {
   "cell_type": "code",
   "execution_count": 19,
   "id": "00e21922",
   "metadata": {},
   "outputs": [
    {
     "data": {
      "text/plain": [
       "1"
      ]
     },
     "execution_count": 19,
     "metadata": {},
     "output_type": "execute_result"
    }
   ],
   "source": [
    "li[0]"
   ]
  },
  {
   "cell_type": "code",
   "execution_count": 20,
   "id": "335e6c14",
   "metadata": {},
   "outputs": [
    {
     "data": {
      "text/plain": [
       "4"
      ]
     },
     "execution_count": 20,
     "metadata": {},
     "output_type": "execute_result"
    }
   ],
   "source": [
    "li[-1]"
   ]
  },
  {
   "cell_type": "code",
   "execution_count": 21,
   "id": "985ce694",
   "metadata": {},
   "outputs": [
    {
     "data": {
      "text/plain": [
       "list"
      ]
     },
     "execution_count": 21,
     "metadata": {},
     "output_type": "execute_result"
    }
   ],
   "source": [
    "type(li)"
   ]
  },
  {
   "cell_type": "code",
   "execution_count": 22,
   "id": "ff5a701e",
   "metadata": {},
   "outputs": [],
   "source": [
    "li[0] = 1000"
   ]
  },
  {
   "cell_type": "code",
   "execution_count": 23,
   "id": "c69ca4c4",
   "metadata": {},
   "outputs": [
    {
     "data": {
      "text/plain": [
       "[1000, 2, 3, 4, 'ai', 'ml', True, False, (1, 20, 1), 1, 2, 4]"
      ]
     },
     "execution_count": 23,
     "metadata": {},
     "output_type": "execute_result"
    }
   ],
   "source": [
    "li"
   ]
  },
  {
   "cell_type": "code",
   "execution_count": 24,
   "id": "8c86eda9",
   "metadata": {},
   "outputs": [
    {
     "data": {
      "text/plain": [
       "2"
      ]
     },
     "execution_count": 24,
     "metadata": {},
     "output_type": "execute_result"
    }
   ],
   "source": [
    "li.count(2)"
   ]
  },
  {
   "cell_type": "code",
   "execution_count": 25,
   "id": "819d461b",
   "metadata": {},
   "outputs": [],
   "source": [
    "li.reverse()"
   ]
  },
  {
   "cell_type": "code",
   "execution_count": 27,
   "id": "25b436af",
   "metadata": {},
   "outputs": [
    {
     "data": {
      "text/plain": [
       "[4, 2, 1, (1, 20, 1), False, True, 'ml', 'ai', 4, 3, 2, 1000]"
      ]
     },
     "execution_count": 27,
     "metadata": {},
     "output_type": "execute_result"
    }
   ],
   "source": [
    "li"
   ]
  },
  {
   "cell_type": "code",
   "execution_count": 28,
   "id": "cd4c2a63",
   "metadata": {},
   "outputs": [
    {
     "data": {
      "text/plain": [
       "4"
      ]
     },
     "execution_count": 28,
     "metadata": {},
     "output_type": "execute_result"
    }
   ],
   "source": [
    "li[0]"
   ]
  },
  {
   "cell_type": "code",
   "execution_count": 29,
   "id": "3a76d107",
   "metadata": {},
   "outputs": [],
   "source": [
    "li.reverse()"
   ]
  },
  {
   "cell_type": "code",
   "execution_count": 30,
   "id": "34114aa4",
   "metadata": {},
   "outputs": [
    {
     "data": {
      "text/plain": [
       "1000"
      ]
     },
     "execution_count": 30,
     "metadata": {},
     "output_type": "execute_result"
    }
   ],
   "source": [
    "li[0]"
   ]
  },
  {
   "cell_type": "code",
   "execution_count": 31,
   "id": "276fc8ad",
   "metadata": {},
   "outputs": [],
   "source": [
    "del li[0]"
   ]
  },
  {
   "cell_type": "code",
   "execution_count": 32,
   "id": "4ba9a82c",
   "metadata": {},
   "outputs": [
    {
     "data": {
      "text/plain": [
       "[2, 3, 4, 'ai', 'ml', True, False, (1, 20, 1), 1, 2, 4]"
      ]
     },
     "execution_count": 32,
     "metadata": {},
     "output_type": "execute_result"
    }
   ],
   "source": [
    "li"
   ]
  },
  {
   "cell_type": "code",
   "execution_count": 33,
   "id": "6091c44d",
   "metadata": {},
   "outputs": [
    {
     "data": {
      "text/plain": [
       "4"
      ]
     },
     "execution_count": 33,
     "metadata": {},
     "output_type": "execute_result"
    }
   ],
   "source": [
    "li.pop(2)"
   ]
  },
  {
   "cell_type": "code",
   "execution_count": 34,
   "id": "53b37c38",
   "metadata": {},
   "outputs": [
    {
     "data": {
      "text/plain": [
       "[2, 3, 'ai', 'ml', True, False, (1, 20, 1), 1, 2, 4]"
      ]
     },
     "execution_count": 34,
     "metadata": {},
     "output_type": "execute_result"
    }
   ],
   "source": [
    "li"
   ]
  },
  {
   "cell_type": "code",
   "execution_count": 35,
   "id": "d10e52c9",
   "metadata": {},
   "outputs": [],
   "source": [
    "li.remove('ai')"
   ]
  },
  {
   "cell_type": "code",
   "execution_count": 36,
   "id": "2d31b6be",
   "metadata": {},
   "outputs": [
    {
     "data": {
      "text/plain": [
       "[2, 3, 'ml', True, False, (1, 20, 1), 1, 2, 4]"
      ]
     },
     "execution_count": 36,
     "metadata": {},
     "output_type": "execute_result"
    }
   ],
   "source": [
    "li"
   ]
  },
  {
   "cell_type": "code",
   "execution_count": 37,
   "id": "f6207e20",
   "metadata": {},
   "outputs": [],
   "source": [
    "li.remove(2)"
   ]
  },
  {
   "cell_type": "code",
   "execution_count": 38,
   "id": "83e92550",
   "metadata": {},
   "outputs": [
    {
     "data": {
      "text/plain": [
       "[3, 'ml', True, False, (1, 20, 1), 1, 2, 4]"
      ]
     },
     "execution_count": 38,
     "metadata": {},
     "output_type": "execute_result"
    }
   ],
   "source": [
    "li"
   ]
  },
  {
   "cell_type": "code",
   "execution_count": 50,
   "id": "92bbb70a",
   "metadata": {},
   "outputs": [],
   "source": [
    "li = [1,2,3,4,5,6,6]"
   ]
  },
  {
   "cell_type": "code",
   "execution_count": 51,
   "id": "5d3c62f3",
   "metadata": {},
   "outputs": [
    {
     "data": {
      "text/plain": [
       "[1, 3, 5]"
      ]
     },
     "execution_count": 51,
     "metadata": {},
     "output_type": "execute_result"
    }
   ],
   "source": [
    "[ i for i in li if(i%2==1)]"
   ]
  },
  {
   "cell_type": "code",
   "execution_count": 52,
   "id": "db57c21a",
   "metadata": {},
   "outputs": [
    {
     "data": {
      "text/plain": [
       "[1, 2, 3, 4, 5, 6, 6]"
      ]
     },
     "execution_count": 52,
     "metadata": {},
     "output_type": "execute_result"
    }
   ],
   "source": [
    "[ i for i in li]"
   ]
  },
  {
   "cell_type": "code",
   "execution_count": 54,
   "id": "a5fc7c46",
   "metadata": {},
   "outputs": [
    {
     "data": {
      "text/plain": [
       "[1, 3, 4, 'ai', 'ml', True, False, (1, 20, 1), 1, 4]"
      ]
     },
     "execution_count": 54,
     "metadata": {},
     "output_type": "execute_result"
    }
   ],
   "source": [
    "li = [1,2,3,4,'ai', 'ml',True, False,(1,20,1),1,2,4]\n",
    "[ i for i in li if i!=2] # delete all 2"
   ]
  },
  {
   "cell_type": "code",
   "execution_count": 55,
   "id": "e4c3b0a4",
   "metadata": {},
   "outputs": [],
   "source": [
    "del li[0]"
   ]
  },
  {
   "cell_type": "code",
   "execution_count": 56,
   "id": "ec38f2c5",
   "metadata": {},
   "outputs": [
    {
     "data": {
      "text/plain": [
       "[2, 3, 4, 'ai', 'ml', True, False, (1, 20, 1), 1, 2, 4]"
      ]
     },
     "execution_count": 56,
     "metadata": {},
     "output_type": "execute_result"
    }
   ],
   "source": [
    "li"
   ]
  },
  {
   "cell_type": "code",
   "execution_count": 57,
   "id": "4d3f99e9",
   "metadata": {},
   "outputs": [],
   "source": [
    "del li[0]"
   ]
  },
  {
   "cell_type": "code",
   "execution_count": 58,
   "id": "9ea7a53c",
   "metadata": {},
   "outputs": [
    {
     "data": {
      "text/plain": [
       "[3, 4, 'ai', 'ml', True, False, (1, 20, 1), 1, 2, 4]"
      ]
     },
     "execution_count": 58,
     "metadata": {},
     "output_type": "execute_result"
    }
   ],
   "source": [
    "li"
   ]
  },
  {
   "cell_type": "code",
   "execution_count": 59,
   "id": "75e5360c",
   "metadata": {},
   "outputs": [],
   "source": [
    "del li[1:5] # 1 to n-1"
   ]
  },
  {
   "cell_type": "code",
   "execution_count": 60,
   "id": "0524c1b5",
   "metadata": {},
   "outputs": [
    {
     "data": {
      "text/plain": [
       "[3, False, (1, 20, 1), 1, 2, 4]"
      ]
     },
     "execution_count": 60,
     "metadata": {},
     "output_type": "execute_result"
    }
   ],
   "source": [
    "li"
   ]
  },
  {
   "cell_type": "code",
   "execution_count": 61,
   "id": "24ed9a7d",
   "metadata": {},
   "outputs": [],
   "source": [
    "li = [1,20,3,14,5,6,6]"
   ]
  },
  {
   "cell_type": "code",
   "execution_count": 62,
   "id": "5023f1cc",
   "metadata": {},
   "outputs": [],
   "source": [
    "li.sort()"
   ]
  },
  {
   "cell_type": "code",
   "execution_count": 63,
   "id": "df630273",
   "metadata": {},
   "outputs": [
    {
     "data": {
      "text/plain": [
       "[1, 3, 5, 6, 6, 14, 20]"
      ]
     },
     "execution_count": 63,
     "metadata": {},
     "output_type": "execute_result"
    }
   ],
   "source": [
    "li"
   ]
  },
  {
   "cell_type": "code",
   "execution_count": 64,
   "id": "6326a0ce",
   "metadata": {},
   "outputs": [],
   "source": [
    "li.sort(reverse=True) #reverse=False"
   ]
  },
  {
   "cell_type": "code",
   "execution_count": 65,
   "id": "9a5ca4a9",
   "metadata": {},
   "outputs": [
    {
     "data": {
      "text/plain": [
       "[20, 14, 6, 6, 5, 3, 1]"
      ]
     },
     "execution_count": 65,
     "metadata": {},
     "output_type": "execute_result"
    }
   ],
   "source": [
    "li"
   ]
  },
  {
   "cell_type": "code",
   "execution_count": 66,
   "id": "fb90ca1e",
   "metadata": {},
   "outputs": [],
   "source": [
    "li.reverse()"
   ]
  },
  {
   "cell_type": "code",
   "execution_count": 67,
   "id": "1fa856f0",
   "metadata": {},
   "outputs": [
    {
     "data": {
      "text/plain": [
       "[1, 3, 5, 6, 6, 14, 20]"
      ]
     },
     "execution_count": 67,
     "metadata": {},
     "output_type": "execute_result"
    }
   ],
   "source": [
    "li"
   ]
  },
  {
   "cell_type": "code",
   "execution_count": 71,
   "id": "77831a02",
   "metadata": {},
   "outputs": [],
   "source": [
    "a=['data', 'science']\n",
    "a.reverse()"
   ]
  },
  {
   "cell_type": "code",
   "execution_count": 72,
   "id": "ab77eee7",
   "metadata": {},
   "outputs": [
    {
     "data": {
      "text/plain": [
       "['science', 'data']"
      ]
     },
     "execution_count": 72,
     "metadata": {},
     "output_type": "execute_result"
    }
   ],
   "source": [
    "a"
   ]
  },
  {
   "cell_type": "code",
   "execution_count": 73,
   "id": "25da2f2c",
   "metadata": {},
   "outputs": [
    {
     "data": {
      "text/plain": [
       "[1, 3, 5, 6, 6, 14, 20]"
      ]
     },
     "execution_count": 73,
     "metadata": {},
     "output_type": "execute_result"
    }
   ],
   "source": [
    "li"
   ]
  },
  {
   "cell_type": "code",
   "execution_count": 74,
   "id": "d0424fc0",
   "metadata": {},
   "outputs": [
    {
     "name": "stdout",
     "output_type": "stream",
     "text": [
      "1\n",
      "3\n",
      "5\n",
      "6\n",
      "6\n",
      "14\n",
      "20\n"
     ]
    }
   ],
   "source": [
    "for i in li:\n",
    "    print(i)"
   ]
  },
  {
   "cell_type": "code",
   "execution_count": 75,
   "id": "986bc4e4",
   "metadata": {},
   "outputs": [
    {
     "name": "stdout",
     "output_type": "stream",
     "text": [
      "1\n",
      "3\n",
      "5\n",
      "6\n",
      "6\n",
      "14\n",
      "20\n"
     ]
    }
   ],
   "source": [
    "for i in range(len(li)):\n",
    "    print(li[i])"
   ]
  },
  {
   "cell_type": "markdown",
   "id": "08cc6450",
   "metadata": {},
   "source": [
    "# Tuple"
   ]
  },
  {
   "cell_type": "markdown",
   "id": "091b75ad",
   "metadata": {},
   "source": [
    "1. Ordered\n",
    "2. Unchangeable\n",
    "3. Allow Duplicates\n"
   ]
  },
  {
   "cell_type": "code",
   "execution_count": 76,
   "id": "874eea26",
   "metadata": {},
   "outputs": [],
   "source": [
    "tup = (1,2,3,4,5,2,3)"
   ]
  },
  {
   "cell_type": "code",
   "execution_count": 77,
   "id": "31fc5e71",
   "metadata": {},
   "outputs": [
    {
     "data": {
      "text/plain": [
       "(1, 2, 3, 4, 5, 2, 3)"
      ]
     },
     "execution_count": 77,
     "metadata": {},
     "output_type": "execute_result"
    }
   ],
   "source": [
    "tup"
   ]
  },
  {
   "cell_type": "code",
   "execution_count": 78,
   "id": "13ba8024",
   "metadata": {},
   "outputs": [
    {
     "data": {
      "text/plain": [
       "1"
      ]
     },
     "execution_count": 78,
     "metadata": {},
     "output_type": "execute_result"
    }
   ],
   "source": [
    "tup[0]"
   ]
  },
  {
   "cell_type": "code",
   "execution_count": 79,
   "id": "26442a15",
   "metadata": {},
   "outputs": [
    {
     "data": {
      "text/plain": [
       "3"
      ]
     },
     "execution_count": 79,
     "metadata": {},
     "output_type": "execute_result"
    }
   ],
   "source": [
    "tup[-1]"
   ]
  },
  {
   "cell_type": "code",
   "execution_count": 80,
   "id": "55d85677",
   "metadata": {},
   "outputs": [
    {
     "ename": "TypeError",
     "evalue": "'tuple' object does not support item assignment",
     "output_type": "error",
     "traceback": [
      "\u001b[1;31m---------------------------------------------------------------------------\u001b[0m",
      "\u001b[1;31mTypeError\u001b[0m                                 Traceback (most recent call last)",
      "\u001b[1;32m~\\AppData\\Local\\Temp\\ipykernel_17004\\238678896.py\u001b[0m in \u001b[0;36m<module>\u001b[1;34m\u001b[0m\n\u001b[1;32m----> 1\u001b[1;33m \u001b[0mtup\u001b[0m\u001b[1;33m[\u001b[0m\u001b[1;36m0\u001b[0m\u001b[1;33m]\u001b[0m \u001b[1;33m=\u001b[0m \u001b[1;36m1000\u001b[0m\u001b[1;33m\u001b[0m\u001b[1;33m\u001b[0m\u001b[0m\n\u001b[0m",
      "\u001b[1;31mTypeError\u001b[0m: 'tuple' object does not support item assignment"
     ]
    }
   ],
   "source": [
    "tup[0] = 1000"
   ]
  },
  {
   "cell_type": "code",
   "execution_count": 81,
   "id": "2f64aef8",
   "metadata": {},
   "outputs": [
    {
     "data": {
      "text/plain": [
       "tuple"
      ]
     },
     "execution_count": 81,
     "metadata": {},
     "output_type": "execute_result"
    }
   ],
   "source": [
    "type(tup)"
   ]
  },
  {
   "cell_type": "code",
   "execution_count": 82,
   "id": "f1025c65",
   "metadata": {},
   "outputs": [],
   "source": [
    "#change \n",
    "li2 = list(tup)"
   ]
  },
  {
   "cell_type": "code",
   "execution_count": 83,
   "id": "ca330b31",
   "metadata": {},
   "outputs": [
    {
     "data": {
      "text/plain": [
       "[1, 2, 3, 4, 5, 2, 3]"
      ]
     },
     "execution_count": 83,
     "metadata": {},
     "output_type": "execute_result"
    }
   ],
   "source": [
    "li2"
   ]
  },
  {
   "cell_type": "code",
   "execution_count": 84,
   "id": "a850fdaf",
   "metadata": {},
   "outputs": [],
   "source": [
    "li2[0]=1000"
   ]
  },
  {
   "cell_type": "code",
   "execution_count": 85,
   "id": "25357241",
   "metadata": {},
   "outputs": [
    {
     "data": {
      "text/plain": [
       "[1000, 2, 3, 4, 5, 2, 3]"
      ]
     },
     "execution_count": 85,
     "metadata": {},
     "output_type": "execute_result"
    }
   ],
   "source": [
    "li2"
   ]
  },
  {
   "cell_type": "code",
   "execution_count": 88,
   "id": "d1fdab80",
   "metadata": {},
   "outputs": [],
   "source": [
    "tup = tuple(li2) #tuple is immutable"
   ]
  },
  {
   "cell_type": "code",
   "execution_count": 89,
   "id": "42b483ff",
   "metadata": {},
   "outputs": [
    {
     "data": {
      "text/plain": [
       "(1000, 2, 3, 4, 5, 2, 3)"
      ]
     },
     "execution_count": 89,
     "metadata": {},
     "output_type": "execute_result"
    }
   ],
   "source": [
    "tup"
   ]
  },
  {
   "cell_type": "code",
   "execution_count": 90,
   "id": "49fb2f71",
   "metadata": {},
   "outputs": [
    {
     "data": {
      "text/plain": [
       "2"
      ]
     },
     "execution_count": 90,
     "metadata": {},
     "output_type": "execute_result"
    }
   ],
   "source": [
    "tup.count(2)"
   ]
  },
  {
   "cell_type": "code",
   "execution_count": 92,
   "id": "bcd3755e",
   "metadata": {},
   "outputs": [
    {
     "data": {
      "text/plain": [
       "1"
      ]
     },
     "execution_count": 92,
     "metadata": {},
     "output_type": "execute_result"
    }
   ],
   "source": [
    "tup.index(2) #2 is value"
   ]
  },
  {
   "cell_type": "code",
   "execution_count": 97,
   "id": "b49075ed",
   "metadata": {},
   "outputs": [
    {
     "data": {
      "text/plain": [
       "(1000, 2, 3, 4)"
      ]
     },
     "execution_count": 97,
     "metadata": {},
     "output_type": "execute_result"
    }
   ],
   "source": [
    "tup[:4] # 0 to 3"
   ]
  },
  {
   "cell_type": "code",
   "execution_count": 98,
   "id": "2121997e",
   "metadata": {},
   "outputs": [
    {
     "data": {
      "text/plain": [
       "(2, 3)"
      ]
     },
     "execution_count": 98,
     "metadata": {},
     "output_type": "execute_result"
    }
   ],
   "source": [
    "tup[5:] # 5 to last"
   ]
  },
  {
   "cell_type": "code",
   "execution_count": 99,
   "id": "04ff02d1",
   "metadata": {},
   "outputs": [
    {
     "data": {
      "text/plain": [
       "(1000, 2, 3, 4, 2, 3)"
      ]
     },
     "execution_count": 99,
     "metadata": {},
     "output_type": "execute_result"
    }
   ],
   "source": [
    "tup[:4]+tup[5:] # this is called slicing"
   ]
  },
  {
   "cell_type": "markdown",
   "id": "d9960272",
   "metadata": {},
   "source": [
    "# Set"
   ]
  },
  {
   "cell_type": "code",
   "execution_count": 100,
   "id": "ee845943",
   "metadata": {},
   "outputs": [],
   "source": [
    "s1 = {1,2,3,4,'data'}\n",
    "s2 = {3,2}"
   ]
  },
  {
   "cell_type": "code",
   "execution_count": 101,
   "id": "4ffbe885",
   "metadata": {},
   "outputs": [
    {
     "data": {
      "text/plain": [
       "{1, 2, 3, 4, 'data'}"
      ]
     },
     "execution_count": 101,
     "metadata": {},
     "output_type": "execute_result"
    }
   ],
   "source": [
    "s1"
   ]
  },
  {
   "cell_type": "code",
   "execution_count": 102,
   "id": "f8c1868c",
   "metadata": {},
   "outputs": [
    {
     "data": {
      "text/plain": [
       "{2, 3}"
      ]
     },
     "execution_count": 102,
     "metadata": {},
     "output_type": "execute_result"
    }
   ],
   "source": [
    "s2"
   ]
  },
  {
   "cell_type": "code",
   "execution_count": 103,
   "id": "f634d81b",
   "metadata": {},
   "outputs": [
    {
     "ename": "TypeError",
     "evalue": "'set' object is not subscriptable",
     "output_type": "error",
     "traceback": [
      "\u001b[1;31m---------------------------------------------------------------------------\u001b[0m",
      "\u001b[1;31mTypeError\u001b[0m                                 Traceback (most recent call last)",
      "\u001b[1;32m~\\AppData\\Local\\Temp\\ipykernel_17004\\243613605.py\u001b[0m in \u001b[0;36m<module>\u001b[1;34m\u001b[0m\n\u001b[1;32m----> 1\u001b[1;33m \u001b[0ms\u001b[0m\u001b[1;33m[\u001b[0m\u001b[1;36m0\u001b[0m\u001b[1;33m]\u001b[0m\u001b[1;33m\u001b[0m\u001b[1;33m\u001b[0m\u001b[0m\n\u001b[0m",
      "\u001b[1;31mTypeError\u001b[0m: 'set' object is not subscriptable"
     ]
    }
   ],
   "source": [
    "s[0]"
   ]
  },
  {
   "cell_type": "code",
   "execution_count": 104,
   "id": "35f54564",
   "metadata": {},
   "outputs": [],
   "source": [
    "s1 = {1,2,3,4,'data',1,1}"
   ]
  },
  {
   "cell_type": "code",
   "execution_count": 105,
   "id": "c0acdf3e",
   "metadata": {},
   "outputs": [
    {
     "data": {
      "text/plain": [
       "{1, 2, 3, 4, 'data'}"
      ]
     },
     "execution_count": 105,
     "metadata": {},
     "output_type": "execute_result"
    }
   ],
   "source": [
    "s1 # no duplicates"
   ]
  },
  {
   "cell_type": "code",
   "execution_count": 106,
   "id": "dae911da",
   "metadata": {},
   "outputs": [],
   "source": [
    "s1.add(10)"
   ]
  },
  {
   "cell_type": "code",
   "execution_count": 107,
   "id": "2eb7939f",
   "metadata": {},
   "outputs": [
    {
     "data": {
      "text/plain": [
       "{1, 10, 2, 3, 4, 'data'}"
      ]
     },
     "execution_count": 107,
     "metadata": {},
     "output_type": "execute_result"
    }
   ],
   "source": [
    "s1"
   ]
  },
  {
   "cell_type": "code",
   "execution_count": 108,
   "id": "18a1a491",
   "metadata": {},
   "outputs": [],
   "source": [
    "#union\n",
    "s1= {1,3,5}\n",
    "s2= {3,6}"
   ]
  },
  {
   "cell_type": "code",
   "execution_count": 109,
   "id": "cc7f1e69",
   "metadata": {},
   "outputs": [
    {
     "data": {
      "text/plain": [
       "{1, 3, 5, 6}"
      ]
     },
     "execution_count": 109,
     "metadata": {},
     "output_type": "execute_result"
    }
   ],
   "source": [
    "s1.union(s2)"
   ]
  },
  {
   "cell_type": "code",
   "execution_count": 110,
   "id": "20781b74",
   "metadata": {},
   "outputs": [
    {
     "data": {
      "text/plain": [
       "{3}"
      ]
     },
     "execution_count": 110,
     "metadata": {},
     "output_type": "execute_result"
    }
   ],
   "source": [
    "s1.intersection(s2)"
   ]
  },
  {
   "cell_type": "code",
   "execution_count": 111,
   "id": "ffc487a9",
   "metadata": {},
   "outputs": [
    {
     "data": {
      "text/plain": [
       "{1, 3, 5, 6}"
      ]
     },
     "execution_count": 111,
     "metadata": {},
     "output_type": "execute_result"
    }
   ],
   "source": [
    "s1 | s2"
   ]
  },
  {
   "cell_type": "code",
   "execution_count": 112,
   "id": "e8a2d333",
   "metadata": {},
   "outputs": [
    {
     "data": {
      "text/plain": [
       "{3}"
      ]
     },
     "execution_count": 112,
     "metadata": {},
     "output_type": "execute_result"
    }
   ],
   "source": [
    "s1 & s2"
   ]
  },
  {
   "cell_type": "code",
   "execution_count": 113,
   "id": "61ee7fe7",
   "metadata": {},
   "outputs": [
    {
     "data": {
      "text/plain": [
       "{1, 3, 5}"
      ]
     },
     "execution_count": 113,
     "metadata": {},
     "output_type": "execute_result"
    }
   ],
   "source": [
    "s1"
   ]
  },
  {
   "cell_type": "code",
   "execution_count": 114,
   "id": "e7c46250",
   "metadata": {},
   "outputs": [],
   "source": [
    "s1 = {1,2,3,4,'data',1,1}"
   ]
  },
  {
   "cell_type": "code",
   "execution_count": 115,
   "id": "dc3800b1",
   "metadata": {},
   "outputs": [
    {
     "data": {
      "text/plain": [
       "{1, 2, 3, 4, 'data'}"
      ]
     },
     "execution_count": 115,
     "metadata": {},
     "output_type": "execute_result"
    }
   ],
   "source": [
    "s1"
   ]
  },
  {
   "cell_type": "code",
   "execution_count": 116,
   "id": "0cdf3747",
   "metadata": {},
   "outputs": [],
   "source": [
    "s1.remove('data')"
   ]
  },
  {
   "cell_type": "code",
   "execution_count": 117,
   "id": "fd45ae8d",
   "metadata": {},
   "outputs": [
    {
     "data": {
      "text/plain": [
       "{1, 2, 3, 4}"
      ]
     },
     "execution_count": 117,
     "metadata": {},
     "output_type": "execute_result"
    }
   ],
   "source": [
    "s1"
   ]
  },
  {
   "cell_type": "code",
   "execution_count": 118,
   "id": "45f1a451",
   "metadata": {},
   "outputs": [],
   "source": [
    "s1.add('ai')"
   ]
  },
  {
   "cell_type": "code",
   "execution_count": 119,
   "id": "bac7596e",
   "metadata": {},
   "outputs": [
    {
     "data": {
      "text/plain": [
       "{1, 2, 3, 4, 'ai'}"
      ]
     },
     "execution_count": 119,
     "metadata": {},
     "output_type": "execute_result"
    }
   ],
   "source": [
    "s1"
   ]
  },
  {
   "cell_type": "code",
   "execution_count": 120,
   "id": "3a89960b",
   "metadata": {},
   "outputs": [],
   "source": [
    "s1.update(['ds','ml',100])"
   ]
  },
  {
   "cell_type": "code",
   "execution_count": 121,
   "id": "965182e5",
   "metadata": {},
   "outputs": [
    {
     "data": {
      "text/plain": [
       "{1, 100, 2, 3, 4, 'ai', 'ds', 'ml'}"
      ]
     },
     "execution_count": 121,
     "metadata": {},
     "output_type": "execute_result"
    }
   ],
   "source": [
    "s1"
   ]
  },
  {
   "cell_type": "code",
   "execution_count": 123,
   "id": "2fddb107",
   "metadata": {},
   "outputs": [],
   "source": [
    "s1.remove('ds')"
   ]
  },
  {
   "cell_type": "code",
   "execution_count": 124,
   "id": "86f9b9e8",
   "metadata": {},
   "outputs": [
    {
     "data": {
      "text/plain": [
       "{1, 100, 2, 3, 4, 'ai', 'ml'}"
      ]
     },
     "execution_count": 124,
     "metadata": {},
     "output_type": "execute_result"
    }
   ],
   "source": [
    "s1"
   ]
  },
  {
   "cell_type": "code",
   "execution_count": 125,
   "id": "febd5c3d",
   "metadata": {
    "scrolled": true
   },
   "outputs": [
    {
     "ename": "KeyError",
     "evalue": "'ds'",
     "output_type": "error",
     "traceback": [
      "\u001b[1;31m---------------------------------------------------------------------------\u001b[0m",
      "\u001b[1;31mKeyError\u001b[0m                                  Traceback (most recent call last)",
      "\u001b[1;32m~\\AppData\\Local\\Temp\\ipykernel_17004\\1805750328.py\u001b[0m in \u001b[0;36m<module>\u001b[1;34m\u001b[0m\n\u001b[1;32m----> 1\u001b[1;33m \u001b[0ms1\u001b[0m\u001b[1;33m.\u001b[0m\u001b[0mremove\u001b[0m\u001b[1;33m(\u001b[0m\u001b[1;34m'ds'\u001b[0m\u001b[1;33m)\u001b[0m\u001b[1;33m\u001b[0m\u001b[1;33m\u001b[0m\u001b[0m\n\u001b[0m",
      "\u001b[1;31mKeyError\u001b[0m: 'ds'"
     ]
    }
   ],
   "source": [
    "s1.remove('ds')"
   ]
  },
  {
   "cell_type": "code",
   "execution_count": 126,
   "id": "339fff66",
   "metadata": {},
   "outputs": [],
   "source": [
    "s1.discard('ai')"
   ]
  },
  {
   "cell_type": "code",
   "execution_count": 127,
   "id": "2956c850",
   "metadata": {},
   "outputs": [
    {
     "data": {
      "text/plain": [
       "{1, 100, 2, 3, 4, 'ml'}"
      ]
     },
     "execution_count": 127,
     "metadata": {},
     "output_type": "execute_result"
    }
   ],
   "source": [
    "s1"
   ]
  },
  {
   "cell_type": "code",
   "execution_count": 128,
   "id": "9a39a327",
   "metadata": {},
   "outputs": [],
   "source": [
    "s1.discard('ai')"
   ]
  },
  {
   "cell_type": "code",
   "execution_count": 129,
   "id": "6dc4d670",
   "metadata": {},
   "outputs": [],
   "source": [
    "s1.discard('ai')"
   ]
  },
  {
   "cell_type": "code",
   "execution_count": 130,
   "id": "117d828f",
   "metadata": {},
   "outputs": [],
   "source": [
    "s1.discard('ai')"
   ]
  },
  {
   "cell_type": "code",
   "execution_count": 133,
   "id": "333e19e0",
   "metadata": {},
   "outputs": [
    {
     "name": "stdout",
     "output_type": "stream",
     "text": [
      "1\n",
      "2\n",
      "3\n",
      "4\n",
      "ml\n",
      "100\n"
     ]
    }
   ],
   "source": [
    "for i in s1:\n",
    "    print(i)"
   ]
  },
  {
   "cell_type": "code",
   "execution_count": 134,
   "id": "6ecc97ee",
   "metadata": {},
   "outputs": [
    {
     "ename": "TypeError",
     "evalue": "'set' object is not subscriptable",
     "output_type": "error",
     "traceback": [
      "\u001b[1;31m---------------------------------------------------------------------------\u001b[0m",
      "\u001b[1;31mTypeError\u001b[0m                                 Traceback (most recent call last)",
      "\u001b[1;32m~\\AppData\\Local\\Temp\\ipykernel_17004\\643609873.py\u001b[0m in \u001b[0;36m<module>\u001b[1;34m\u001b[0m\n\u001b[1;32m----> 1\u001b[1;33m \u001b[0ms1\u001b[0m\u001b[1;33m[\u001b[0m\u001b[1;36m0\u001b[0m\u001b[1;33m]\u001b[0m\u001b[1;33m\u001b[0m\u001b[1;33m\u001b[0m\u001b[0m\n\u001b[0m",
      "\u001b[1;31mTypeError\u001b[0m: 'set' object is not subscriptable"
     ]
    }
   ],
   "source": [
    "s1[0]"
   ]
  },
  {
   "cell_type": "code",
   "execution_count": 135,
   "id": "33fff671",
   "metadata": {},
   "outputs": [],
   "source": [
    "import array as ar"
   ]
  },
  {
   "cell_type": "code",
   "execution_count": 137,
   "id": "2ba85ab3",
   "metadata": {},
   "outputs": [],
   "source": [
    "n = ar.array('i',[1,2,3,4,5])"
   ]
  },
  {
   "cell_type": "code",
   "execution_count": 138,
   "id": "ebf10b5f",
   "metadata": {},
   "outputs": [
    {
     "data": {
      "text/plain": [
       "array('i', [1, 2, 3, 4, 5])"
      ]
     },
     "execution_count": 138,
     "metadata": {},
     "output_type": "execute_result"
    }
   ],
   "source": [
    "n"
   ]
  },
  {
   "cell_type": "code",
   "execution_count": 139,
   "id": "0ec3cdb8",
   "metadata": {},
   "outputs": [
    {
     "data": {
      "text/plain": [
       "array.array"
      ]
     },
     "execution_count": 139,
     "metadata": {},
     "output_type": "execute_result"
    }
   ],
   "source": [
    "type(n)"
   ]
  },
  {
   "cell_type": "code",
   "execution_count": 141,
   "id": "82f42490",
   "metadata": {},
   "outputs": [],
   "source": [
    "n = ar.array('f',[1,2,3,4,5.5])"
   ]
  },
  {
   "cell_type": "code",
   "execution_count": 142,
   "id": "e99d7064",
   "metadata": {},
   "outputs": [
    {
     "data": {
      "text/plain": [
       "array('f', [1.0, 2.0, 3.0, 4.0, 5.5])"
      ]
     },
     "execution_count": 142,
     "metadata": {},
     "output_type": "execute_result"
    }
   ],
   "source": [
    "n"
   ]
  },
  {
   "cell_type": "code",
   "execution_count": 143,
   "id": "842417c3",
   "metadata": {},
   "outputs": [
    {
     "data": {
      "text/plain": [
       "5"
      ]
     },
     "execution_count": 143,
     "metadata": {},
     "output_type": "execute_result"
    }
   ],
   "source": [
    "len(n)"
   ]
  },
  {
   "cell_type": "code",
   "execution_count": 144,
   "id": "d84a32db",
   "metadata": {},
   "outputs": [],
   "source": [
    "n.insert(1,10)"
   ]
  },
  {
   "cell_type": "code",
   "execution_count": 145,
   "id": "6dfa32cb",
   "metadata": {},
   "outputs": [
    {
     "data": {
      "text/plain": [
       "array('f', [1.0, 10.0, 2.0, 3.0, 4.0, 5.5])"
      ]
     },
     "execution_count": 145,
     "metadata": {},
     "output_type": "execute_result"
    }
   ],
   "source": [
    "n"
   ]
  },
  {
   "cell_type": "code",
   "execution_count": 146,
   "id": "52d18614",
   "metadata": {},
   "outputs": [],
   "source": [
    "n.remove(1)"
   ]
  },
  {
   "cell_type": "code",
   "execution_count": 147,
   "id": "067c72d5",
   "metadata": {},
   "outputs": [
    {
     "data": {
      "text/plain": [
       "array('f', [10.0, 2.0, 3.0, 4.0, 5.5])"
      ]
     },
     "execution_count": 147,
     "metadata": {},
     "output_type": "execute_result"
    }
   ],
   "source": [
    "n"
   ]
  },
  {
   "cell_type": "code",
   "execution_count": 148,
   "id": "e2bf0433",
   "metadata": {},
   "outputs": [
    {
     "data": {
      "text/plain": [
       "3"
      ]
     },
     "execution_count": 148,
     "metadata": {},
     "output_type": "execute_result"
    }
   ],
   "source": [
    "n.index(4) # kon position hold kortese"
   ]
  },
  {
   "cell_type": "code",
   "execution_count": 150,
   "id": "ae342e61",
   "metadata": {},
   "outputs": [
    {
     "data": {
      "text/plain": [
       "3.0"
      ]
     },
     "execution_count": 150,
     "metadata": {},
     "output_type": "execute_result"
    }
   ],
   "source": [
    "n.pop(2)"
   ]
  },
  {
   "cell_type": "code",
   "execution_count": 151,
   "id": "09d1bfd4",
   "metadata": {},
   "outputs": [
    {
     "data": {
      "text/plain": [
       "array('f', [10.0, 2.0, 4.0, 5.5])"
      ]
     },
     "execution_count": 151,
     "metadata": {},
     "output_type": "execute_result"
    }
   ],
   "source": [
    "n"
   ]
  },
  {
   "cell_type": "code",
   "execution_count": 152,
   "id": "e13aa3a4",
   "metadata": {},
   "outputs": [
    {
     "ename": "AttributeError",
     "evalue": "'array.array' object has no attribute 'sort'",
     "output_type": "error",
     "traceback": [
      "\u001b[1;31m---------------------------------------------------------------------------\u001b[0m",
      "\u001b[1;31mAttributeError\u001b[0m                            Traceback (most recent call last)",
      "\u001b[1;32m~\\AppData\\Local\\Temp\\ipykernel_17004\\3340300590.py\u001b[0m in \u001b[0;36m<module>\u001b[1;34m\u001b[0m\n\u001b[1;32m----> 1\u001b[1;33m \u001b[0mn\u001b[0m\u001b[1;33m.\u001b[0m\u001b[0msort\u001b[0m\u001b[1;33m(\u001b[0m\u001b[1;33m)\u001b[0m\u001b[1;33m\u001b[0m\u001b[1;33m\u001b[0m\u001b[0m\n\u001b[0m",
      "\u001b[1;31mAttributeError\u001b[0m: 'array.array' object has no attribute 'sort'"
     ]
    }
   ],
   "source": [
    "n.sort()"
   ]
  },
  {
   "cell_type": "code",
   "execution_count": 153,
   "id": "90ab3cbb",
   "metadata": {},
   "outputs": [],
   "source": [
    "n.reverse()"
   ]
  },
  {
   "cell_type": "code",
   "execution_count": 154,
   "id": "75bdeb54",
   "metadata": {},
   "outputs": [
    {
     "data": {
      "text/plain": [
       "array('f', [5.5, 4.0, 2.0, 10.0])"
      ]
     },
     "execution_count": 154,
     "metadata": {},
     "output_type": "execute_result"
    }
   ],
   "source": [
    "n"
   ]
  },
  {
   "cell_type": "code",
   "execution_count": 155,
   "id": "a8a681fe",
   "metadata": {},
   "outputs": [
    {
     "data": {
      "text/plain": [
       "1"
      ]
     },
     "execution_count": 155,
     "metadata": {},
     "output_type": "execute_result"
    }
   ],
   "source": [
    "n.count(4)"
   ]
  },
  {
   "cell_type": "code",
   "execution_count": 156,
   "id": "41833a40",
   "metadata": {},
   "outputs": [],
   "source": [
    "n[0] = 10000"
   ]
  },
  {
   "cell_type": "code",
   "execution_count": 157,
   "id": "71a43bea",
   "metadata": {},
   "outputs": [
    {
     "data": {
      "text/plain": [
       "array('f', [10000.0, 4.0, 2.0, 10.0])"
      ]
     },
     "execution_count": 157,
     "metadata": {},
     "output_type": "execute_result"
    }
   ],
   "source": [
    "n"
   ]
  },
  {
   "cell_type": "markdown",
   "id": "1c2ef8de",
   "metadata": {},
   "source": [
    "# Dictionary"
   ]
  },
  {
   "cell_type": "markdown",
   "id": "cf18b318",
   "metadata": {},
   "source": [
    "1. Ordered\n",
    "2. Changeable\n",
    "3. Does not Allow Duplicates\n"
   ]
  },
  {
   "cell_type": "code",
   "execution_count": 160,
   "id": "cbf4e279",
   "metadata": {},
   "outputs": [],
   "source": [
    "dic = {\n",
    "    'name' : 'Md. Suruj',\n",
    "    'age' : 24,\n",
    "    'varsity' : 'YZU',\n",
    "    'dept': 'SE'\n",
    "}"
   ]
  },
  {
   "cell_type": "code",
   "execution_count": 161,
   "id": "dee73d72",
   "metadata": {},
   "outputs": [
    {
     "data": {
      "text/plain": [
       "{'name': 'Md. Suruj', 'age': 24, 'varsity': 'YZU', 'dept': 'SE'}"
      ]
     },
     "execution_count": 161,
     "metadata": {},
     "output_type": "execute_result"
    }
   ],
   "source": [
    "dic"
   ]
  },
  {
   "cell_type": "code",
   "execution_count": 162,
   "id": "1e60fb01",
   "metadata": {},
   "outputs": [
    {
     "data": {
      "text/plain": [
       "dict_keys(['name', 'age', 'varsity', 'dept'])"
      ]
     },
     "execution_count": 162,
     "metadata": {},
     "output_type": "execute_result"
    }
   ],
   "source": [
    "dic.keys()"
   ]
  },
  {
   "cell_type": "code",
   "execution_count": 164,
   "id": "5db6e082",
   "metadata": {},
   "outputs": [
    {
     "data": {
      "text/plain": [
       "dict_values(['Md. Suruj', 24, 'YZU', 'SE'])"
      ]
     },
     "execution_count": 164,
     "metadata": {},
     "output_type": "execute_result"
    }
   ],
   "source": [
    "dic.values()"
   ]
  },
  {
   "cell_type": "code",
   "execution_count": 165,
   "id": "e822ff02",
   "metadata": {},
   "outputs": [],
   "source": [
    "dic['country'] = 'Bangladesh'"
   ]
  },
  {
   "cell_type": "code",
   "execution_count": 166,
   "id": "db64bc1e",
   "metadata": {},
   "outputs": [
    {
     "data": {
      "text/plain": [
       "{'name': 'Md. Suruj',\n",
       " 'age': 24,\n",
       " 'varsity': 'YZU',\n",
       " 'dept': 'SE',\n",
       " 'country': 'Bangladesh'}"
      ]
     },
     "execution_count": 166,
     "metadata": {},
     "output_type": "execute_result"
    }
   ],
   "source": [
    "dic"
   ]
  },
  {
   "cell_type": "code",
   "execution_count": 168,
   "id": "24e9496f",
   "metadata": {},
   "outputs": [
    {
     "name": "stdout",
     "output_type": "stream",
     "text": [
      "enter keysage\n",
      "enter values20\n"
     ]
    }
   ],
   "source": [
    "var1 = input('enter keys')\n",
    "var2 = input('enter values')\n",
    "\n",
    "d = {}\n",
    "\n",
    "d[var1] = var2"
   ]
  },
  {
   "cell_type": "code",
   "execution_count": 169,
   "id": "5be22c6d",
   "metadata": {},
   "outputs": [
    {
     "data": {
      "text/plain": [
       "{'age': '20'}"
      ]
     },
     "execution_count": 169,
     "metadata": {},
     "output_type": "execute_result"
    }
   ],
   "source": [
    "d"
   ]
  },
  {
   "cell_type": "code",
   "execution_count": 170,
   "id": "497eb49a",
   "metadata": {},
   "outputs": [
    {
     "data": {
      "text/plain": [
       "dict"
      ]
     },
     "execution_count": 170,
     "metadata": {},
     "output_type": "execute_result"
    }
   ],
   "source": [
    "type(d)"
   ]
  },
  {
   "cell_type": "code",
   "execution_count": 175,
   "id": "3e8a9cca",
   "metadata": {},
   "outputs": [
    {
     "name": "stdout",
     "output_type": "stream",
     "text": [
      "3\n",
      "enter key namex\n",
      "enter values1\n",
      "0\n",
      "enter key namey\n",
      "enter values3\n",
      "1\n",
      "enter key namez\n",
      "enter values7\n",
      "2\n",
      "{'x': '1', 'y': '3', 'z': '7'}\n"
     ]
    }
   ],
   "source": [
    "n = int(input())\n",
    "d = {}\n",
    "\n",
    "for x in range(n):\n",
    "    keys =input('enter key name')\n",
    "    value = input('enter values')\n",
    "    d[keys] = value\n",
    "    #print(x)\n",
    "\n",
    "print(d)"
   ]
  },
  {
   "cell_type": "code",
   "execution_count": 176,
   "id": "dc9f9b87",
   "metadata": {},
   "outputs": [],
   "source": [
    "dic = {\n",
    "    'name' : ['Md. Suruj','Ayon'],\n",
    "    'age' : [24,25],\n",
    "    'varsity' : ['YZU','Uni'],\n",
    "    'dept': ['SE','DS']\n",
    "}"
   ]
  },
  {
   "cell_type": "code",
   "execution_count": 177,
   "id": "163c1405",
   "metadata": {},
   "outputs": [
    {
     "data": {
      "text/plain": [
       "{'name': ['Md. Suruj', 'Ayon'],\n",
       " 'age': [24, 25],\n",
       " 'varsity': ['YZU', 'Uni'],\n",
       " 'dept': ['SE', 'DS']}"
      ]
     },
     "execution_count": 177,
     "metadata": {},
     "output_type": "execute_result"
    }
   ],
   "source": [
    "dic"
   ]
  },
  {
   "cell_type": "markdown",
   "id": "5f41e04e",
   "metadata": {},
   "source": [
    "# DataFrame"
   ]
  },
  {
   "cell_type": "code",
   "execution_count": 178,
   "id": "36709332",
   "metadata": {},
   "outputs": [
    {
     "name": "stdout",
     "output_type": "stream",
     "text": [
      "Requirement already satisfied: pandas in c:\\users\\rashe\\anaconda3\\lib\\site-packages (1.4.4)\n",
      "Requirement already satisfied: numpy>=1.18.5 in c:\\users\\rashe\\anaconda3\\lib\\site-packages (from pandas) (1.21.5)\n",
      "Requirement already satisfied: pytz>=2020.1 in c:\\users\\rashe\\anaconda3\\lib\\site-packages (from pandas) (2022.1)\n",
      "Requirement already satisfied: python-dateutil>=2.8.1 in c:\\users\\rashe\\anaconda3\\lib\\site-packages (from pandas) (2.8.2)\n",
      "Requirement already satisfied: six>=1.5 in c:\\users\\rashe\\anaconda3\\lib\\site-packages (from python-dateutil>=2.8.1->pandas) (1.16.0)\n"
     ]
    }
   ],
   "source": [
    "!pip install pandas"
   ]
  },
  {
   "cell_type": "code",
   "execution_count": 179,
   "id": "c8b22a55",
   "metadata": {},
   "outputs": [],
   "source": [
    "import pandas as pd"
   ]
  },
  {
   "cell_type": "code",
   "execution_count": 180,
   "id": "ba3c5dcc",
   "metadata": {},
   "outputs": [],
   "source": [
    "df = pd.DataFrame(dic)"
   ]
  },
  {
   "cell_type": "code",
   "execution_count": 181,
   "id": "779bf1f6",
   "metadata": {},
   "outputs": [
    {
     "data": {
      "text/html": [
       "<div>\n",
       "<style scoped>\n",
       "    .dataframe tbody tr th:only-of-type {\n",
       "        vertical-align: middle;\n",
       "    }\n",
       "\n",
       "    .dataframe tbody tr th {\n",
       "        vertical-align: top;\n",
       "    }\n",
       "\n",
       "    .dataframe thead th {\n",
       "        text-align: right;\n",
       "    }\n",
       "</style>\n",
       "<table border=\"1\" class=\"dataframe\">\n",
       "  <thead>\n",
       "    <tr style=\"text-align: right;\">\n",
       "      <th></th>\n",
       "      <th>name</th>\n",
       "      <th>age</th>\n",
       "      <th>varsity</th>\n",
       "      <th>dept</th>\n",
       "    </tr>\n",
       "  </thead>\n",
       "  <tbody>\n",
       "    <tr>\n",
       "      <th>0</th>\n",
       "      <td>Md. Suruj</td>\n",
       "      <td>24</td>\n",
       "      <td>YZU</td>\n",
       "      <td>SE</td>\n",
       "    </tr>\n",
       "    <tr>\n",
       "      <th>1</th>\n",
       "      <td>Ayon</td>\n",
       "      <td>25</td>\n",
       "      <td>Uni</td>\n",
       "      <td>DS</td>\n",
       "    </tr>\n",
       "  </tbody>\n",
       "</table>\n",
       "</div>"
      ],
      "text/plain": [
       "        name  age varsity dept\n",
       "0  Md. Suruj   24     YZU   SE\n",
       "1       Ayon   25     Uni   DS"
      ]
     },
     "execution_count": 181,
     "metadata": {},
     "output_type": "execute_result"
    }
   ],
   "source": [
    "df"
   ]
  },
  {
   "cell_type": "code",
   "execution_count": 182,
   "id": "9a3a03f5",
   "metadata": {},
   "outputs": [],
   "source": [
    "df.to_csv('df.csv')"
   ]
  },
  {
   "cell_type": "code",
   "execution_count": 183,
   "id": "682a0191",
   "metadata": {},
   "outputs": [
    {
     "data": {
      "text/plain": [
       "(2, 4)"
      ]
     },
     "execution_count": 183,
     "metadata": {},
     "output_type": "execute_result"
    }
   ],
   "source": [
    "df.shape"
   ]
  },
  {
   "cell_type": "code",
   "execution_count": 186,
   "id": "49e5eff8",
   "metadata": {},
   "outputs": [],
   "source": [
    "df2 = pd.DataFrame([1,2,3,4,5,6,6], columns=['num'])"
   ]
  },
  {
   "cell_type": "code",
   "execution_count": 187,
   "id": "00f785c3",
   "metadata": {},
   "outputs": [
    {
     "data": {
      "text/html": [
       "<div>\n",
       "<style scoped>\n",
       "    .dataframe tbody tr th:only-of-type {\n",
       "        vertical-align: middle;\n",
       "    }\n",
       "\n",
       "    .dataframe tbody tr th {\n",
       "        vertical-align: top;\n",
       "    }\n",
       "\n",
       "    .dataframe thead th {\n",
       "        text-align: right;\n",
       "    }\n",
       "</style>\n",
       "<table border=\"1\" class=\"dataframe\">\n",
       "  <thead>\n",
       "    <tr style=\"text-align: right;\">\n",
       "      <th></th>\n",
       "      <th>num</th>\n",
       "    </tr>\n",
       "  </thead>\n",
       "  <tbody>\n",
       "    <tr>\n",
       "      <th>0</th>\n",
       "      <td>1</td>\n",
       "    </tr>\n",
       "    <tr>\n",
       "      <th>1</th>\n",
       "      <td>2</td>\n",
       "    </tr>\n",
       "    <tr>\n",
       "      <th>2</th>\n",
       "      <td>3</td>\n",
       "    </tr>\n",
       "    <tr>\n",
       "      <th>3</th>\n",
       "      <td>4</td>\n",
       "    </tr>\n",
       "    <tr>\n",
       "      <th>4</th>\n",
       "      <td>5</td>\n",
       "    </tr>\n",
       "    <tr>\n",
       "      <th>5</th>\n",
       "      <td>6</td>\n",
       "    </tr>\n",
       "    <tr>\n",
       "      <th>6</th>\n",
       "      <td>6</td>\n",
       "    </tr>\n",
       "  </tbody>\n",
       "</table>\n",
       "</div>"
      ],
      "text/plain": [
       "   num\n",
       "0    1\n",
       "1    2\n",
       "2    3\n",
       "3    4\n",
       "4    5\n",
       "5    6\n",
       "6    6"
      ]
     },
     "execution_count": 187,
     "metadata": {},
     "output_type": "execute_result"
    }
   ],
   "source": [
    "df2"
   ]
  },
  {
   "cell_type": "code",
   "execution_count": 189,
   "id": "ac221ae9",
   "metadata": {},
   "outputs": [
    {
     "name": "stdout",
     "output_type": "stream",
     "text": [
      "@@@@\n",
      "\n",
      "@@@@\n",
      "\n",
      "@@@@\n",
      "\n",
      "@@@@\n",
      "\n"
     ]
    }
   ],
   "source": [
    "row = 5\n",
    "#outer loop\n",
    "\n",
    "for i in range(1, row):\n",
    "    #ineer loop\n",
    "    for j in range(1,row):\n",
    "        print('@', end='')\n",
    "    print('\\n')"
   ]
  },
  {
   "cell_type": "code",
   "execution_count": 191,
   "id": "a23dd4b7",
   "metadata": {},
   "outputs": [
    {
     "name": "stdout",
     "output_type": "stream",
     "text": [
      "@\n",
      "\n",
      "@@\n",
      "\n",
      "@@@\n",
      "\n",
      "@@@@\n",
      "\n"
     ]
    }
   ],
   "source": [
    "row = 5\n",
    "#outer loop\n",
    "for i in range(1, row):\n",
    "    #ineer loop\n",
    "    for j in range(1,i+1):\n",
    "        print('@', end='')\n",
    "    print('\\n')"
   ]
  },
  {
   "cell_type": "code",
   "execution_count": null,
   "id": "3805d4e0",
   "metadata": {},
   "outputs": [],
   "source": []
  }
 ],
 "metadata": {
  "kernelspec": {
   "display_name": "Python 3 (ipykernel)",
   "language": "python",
   "name": "python3"
  },
  "language_info": {
   "codemirror_mode": {
    "name": "ipython",
    "version": 3
   },
   "file_extension": ".py",
   "mimetype": "text/x-python",
   "name": "python",
   "nbconvert_exporter": "python",
   "pygments_lexer": "ipython3",
   "version": "3.9.13"
  }
 },
 "nbformat": 4,
 "nbformat_minor": 5
}
